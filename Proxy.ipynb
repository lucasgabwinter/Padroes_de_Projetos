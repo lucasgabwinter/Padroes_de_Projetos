{
  "nbformat": 4,
  "nbformat_minor": 0,
  "metadata": {
    "colab": {
      "provenance": [],
      "authorship_tag": "ABX9TyMTkbmU9v/aS2z5nuhun+UA",
      "include_colab_link": true
    },
    "kernelspec": {
      "name": "python3",
      "display_name": "Python 3"
    },
    "language_info": {
      "name": "python"
    }
  },
  "cells": [
    {
      "cell_type": "markdown",
      "metadata": {
        "id": "view-in-github",
        "colab_type": "text"
      },
      "source": [
        "<a href=\"https://colab.research.google.com/github/lucasgabwinter/Padroes_de_Projetos/blob/main/Proxy.ipynb\" target=\"_parent\"><img src=\"https://colab.research.google.com/assets/colab-badge.svg\" alt=\"Open In Colab\"/></a>"
      ]
    },
    {
      "cell_type": "code",
      "execution_count": 3,
      "metadata": {
        "colab": {
          "base_uri": "https://localhost:8080/"
        },
        "id": "T1QwNVVVJcJc",
        "outputId": "ddf5e1a1-152e-43de-ea50-849ace8c7d55"
      },
      "outputs": [
        {
          "output_type": "stream",
          "name": "stdout",
          "text": [
            "Criando contrato (proxy, sem carregar do banco ainda)...\n",
            "\n",
            "Acessando detalhes do contrato pela primeira vez:\n",
            "Carregando contrato C12345 do banco de dados...\n",
            "Contrato C12345 | Cliente: Lucas Winter | Valor: R$10,000.00 | Taxa: 1.5% | Prazo: 36 meses\n",
            "\n",
            "Segunda chamada (já carregado, sem repetir a operação pesada):\n",
            "Contrato C12345 | Cliente: Lucas Winter | Valor: R$10,000.00 | Taxa: 1.5% | Prazo: 36 meses\n"
          ]
        }
      ],
      "source": [
        "# Padrão estrutural proxy\n",
        "from abc import ABC, abstractmethod\n",
        "\n",
        "# Interface do contrato\n",
        "class ContratoCreditoInterface(ABC):\n",
        "    @abstractmethod\n",
        "    def exibir_detalhes(self):\n",
        "        pass\n",
        "\n",
        "# Objeto real: contém todas as informações de um contrato (pesado)\n",
        "class ContratoCredito(ContratoCreditoInterface):\n",
        "    def __init__(self, numero, cliente, valor, taxa_juros, prazo):\n",
        "        self.numero = numero\n",
        "        self.cliente = cliente\n",
        "        self.valor = valor\n",
        "        self.taxa_juros = taxa_juros\n",
        "        self.prazo = prazo\n",
        "        self.carregar_dados_contrato()  # Simula um carregamento pesado\n",
        "\n",
        "    def carregar_dados_contrato(self):\n",
        "        print(f\"Carregando contrato {self.numero} do banco de dados...\")\n",
        "\n",
        "    def exibir_detalhes(self):\n",
        "        print(f\"Contrato {self.numero} | Cliente: {self.cliente} | Valor: R${self.valor:,.2f} | \"\n",
        "              f\"Taxa: {self.taxa_juros}% | Prazo: {self.prazo} meses\")\n",
        "\n",
        "# Proxy: só carrega o contrato real quando necessário\n",
        "class ProxyContratoCredito(ContratoCreditoInterface):\n",
        "    def __init__(self, numero, cliente, valor, taxa_juros, prazo):\n",
        "        self.numero = numero\n",
        "        self.cliente = cliente\n",
        "        self.valor = valor\n",
        "        self.taxa_juros = taxa_juros\n",
        "        self.prazo = prazo\n",
        "        self.contrato_real = None  # Ainda não carregado\n",
        "\n",
        "    def exibir_detalhes(self):\n",
        "        if self.contrato_real is None:\n",
        "            self.contrato_real = ContratoCredito(self.numero, self.cliente, self.valor, self.taxa_juros, self.prazo)\n",
        "        self.contrato_real.exibir_detalhes()\n",
        "\n",
        "# Uso do Proxy\n",
        "print(\"Criando contrato (proxy, sem carregar do banco ainda)...\")\n",
        "contrato_proxy = ProxyContratoCredito(\"C12345\", \"Lucas Winter\", 10000, 1.5, 36)\n",
        "\n",
        "print(\"\\nAcessando detalhes do contrato pela primeira vez:\")\n",
        "contrato_proxy.exibir_detalhes()  # Agora ele carrega do banco\n",
        "\n",
        "print(\"\\nSegunda chamada (já carregado, sem repetir a operação pesada):\")\n",
        "contrato_proxy.exibir_detalhes()\n"
      ]
    }
  ]
}