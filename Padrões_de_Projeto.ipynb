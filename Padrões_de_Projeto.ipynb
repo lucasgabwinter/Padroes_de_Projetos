{
  "nbformat": 4,
  "nbformat_minor": 0,
  "metadata": {
    "colab": {
      "provenance": [],
      "authorship_tag": "ABX9TyMNLUR9NKQ/Mv0TKbEReRyB",
      "include_colab_link": true
    },
    "kernelspec": {
      "name": "python3",
      "display_name": "Python 3"
    },
    "language_info": {
      "name": "python"
    }
  },
  "cells": [
    {
      "cell_type": "markdown",
      "metadata": {
        "id": "view-in-github",
        "colab_type": "text"
      },
      "source": [
        "<a href=\"https://colab.research.google.com/github/lucasgabwinter/Padroes_de_Projetos/blob/main/Padr%C3%B5es_de_Projeto.ipynb\" target=\"_parent\"><img src=\"https://colab.research.google.com/assets/colab-badge.svg\" alt=\"Open In Colab\"/></a>"
      ]
    },
    {
      "cell_type": "code",
      "execution_count": 2,
      "metadata": {
        "colab": {
          "base_uri": "https://localhost:8080/"
        },
        "id": "gwi-NlaN_-eo",
        "outputId": "80582cb4-51f9-40e5-9ce4-34e0dae37423"
      },
      "outputs": [
        {
          "output_type": "stream",
          "name": "stdout",
          "text": [
            "Contrato Original:\n",
            "Contrato: C12345 | Cliente: Lucas Winter | Valor: R$10,000.00 | Taxa: 1.5% | Prazo: 36 meses\n",
            "\n",
            "Contrato com Maior Risco:\n",
            "Contrato: C12345 | Cliente: Lucas Winter | Valor: R$10,000.00 | Taxa: 2.0% | Prazo: 36 meses\n",
            "\n",
            "Contrato Renegociado:\n",
            "Contrato: C12345 | Cliente: Lucas Winter | Valor: R$10,000.00 | Taxa: 1.5% | Prazo: 48 meses\n"
          ]
        }
      ],
      "source": [
        "# Padrão de projeto criacional Prototype\n",
        "import copy\n",
        "\n",
        "class ContratoCredito:\n",
        "    def __init__(self, numero, cliente, valor, taxa_juros, prazo):\n",
        "        self.numero = numero\n",
        "        self.cliente = cliente\n",
        "        self.valor = valor\n",
        "        self.taxa_juros = taxa_juros\n",
        "        self.prazo = prazo\n",
        "\n",
        "    def clone(self):\n",
        "        return copy.deepcopy(self)\n",
        "\n",
        "    def exibir_info(self):\n",
        "        print(f\"Contrato: {self.numero} | Cliente: {self.cliente} | Valor: R${self.valor:,.2f} | \"\n",
        "              f\"Taxa: {self.taxa_juros}% | Prazo: {self.prazo} meses\")\n",
        "\n",
        "# Contrato original\n",
        "contrato_base = ContratoCredito(numero=\"C12345\", cliente=\"Lucas Winter\", valor=10000, taxa_juros=1.5, prazo=36)\n",
        "\n",
        "# Clonando para simular um cenário com aumento de taxa de juros\n",
        "contrato_risco_alto = contrato_base.clone()\n",
        "contrato_risco_alto.taxa_juros = 2.0  # Simulação de aumento de risco\n",
        "\n",
        "# Clonando para um contrato renegociado com novo prazo\n",
        "contrato_renegociado = contrato_base.clone()\n",
        "contrato_renegociado.prazo = 48  # Novo prazo maior\n",
        "\n",
        "# Resultados\n",
        "print(\"Contrato Original:\")\n",
        "contrato_base.exibir_info()\n",
        "\n",
        "print(\"\\nContrato com Maior Risco:\")\n",
        "contrato_risco_alto.exibir_info()\n",
        "\n",
        "print(\"\\nContrato Renegociado:\")\n",
        "contrato_renegociado.exibir_info()\n"
      ]
    }
  ]
}