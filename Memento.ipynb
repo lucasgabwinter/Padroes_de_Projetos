{
  "nbformat": 4,
  "nbformat_minor": 0,
  "metadata": {
    "colab": {
      "provenance": [],
      "authorship_tag": "ABX9TyNhPo7AGQBL5u/1oDR4gfAF",
      "include_colab_link": true
    },
    "kernelspec": {
      "name": "python3",
      "display_name": "Python 3"
    },
    "language_info": {
      "name": "python"
    }
  },
  "cells": [
    {
      "cell_type": "markdown",
      "metadata": {
        "id": "view-in-github",
        "colab_type": "text"
      },
      "source": [
        "<a href=\"https://colab.research.google.com/github/lucasgabwinter/Padroes_de_Projetos/blob/main/Memento.ipynb\" target=\"_parent\"><img src=\"https://colab.research.google.com/assets/colab-badge.svg\" alt=\"Open In Colab\"/></a>"
      ]
    },
    {
      "cell_type": "code",
      "execution_count": 1,
      "metadata": {
        "colab": {
          "base_uri": "https://localhost:8080/"
        },
        "id": "UR5Nq5CoPIEm",
        "outputId": "365d259f-86f3-4ea1-9a29-dbfdf6684b53"
      },
      "outputs": [
        {
          "output_type": "stream",
          "name": "stdout",
          "text": [
            "\n",
            "Estado inicial do contrato:\n",
            "Contrato C12345 | Cliente: Lucas Winter | Valor: R$10,000.00 | Taxa: 1.5% | Prazo: 36 meses\n",
            "\n",
            "Contrato alterado:\n",
            "Contrato C12345 | Cliente: Lucas Winter | Valor: R$10,000.00 | Taxa: 2.0% | Prazo: 48 meses\n",
            "\n",
            "Estado restaurado:\n",
            "Contrato C12345 | Cliente: Lucas Winter | Valor: R$10,000.00 | Taxa: 1.5% | Prazo: 36 meses\n"
          ]
        }
      ],
      "source": [
        "# Exemplo de projeto comportamental Memento\n",
        "# Armazena o estado do contrato\n",
        "class ContratoMemento:\n",
        "    def __init__(self, estado):\n",
        "        self.estado = estado\n",
        "\n",
        "# Contrato de Crédito que pode ter seu estado salvo e restaurado\n",
        "class ContratoCredito:\n",
        "    def __init__(self, numero, cliente, valor, taxa_juros, prazo):\n",
        "        self.numero = numero\n",
        "        self.cliente = cliente\n",
        "        self.valor = valor\n",
        "        self.taxa_juros = taxa_juros\n",
        "        self.prazo = prazo\n",
        "\n",
        "    def salvar_estado(self):\n",
        "        \"\"\"Salva o estado atual do contrato como um Memento\"\"\"\n",
        "        return ContratoMemento(self.__dict__.copy())\n",
        "\n",
        "    def restaurar_estado(self, memento):\n",
        "        \"\"\"Restaura um estado salvo do contrato\"\"\"\n",
        "        self.__dict__ = memento.estado\n",
        "\n",
        "    def exibir_detalhes(self):\n",
        "        print(f\"Contrato {self.numero} | Cliente: {self.cliente} | Valor: R${self.valor:,.2f} | \"\n",
        "              f\"Taxa: {self.taxa_juros}% | Prazo: {self.prazo} meses\")\n",
        "\n",
        "# Gerencia os estados salvos do contrato\n",
        "class HistoricoContrato:\n",
        "    def __init__(self):\n",
        "        self.historico = []\n",
        "\n",
        "    def adicionar_memento(self, memento):\n",
        "        self.historico.append(memento)\n",
        "\n",
        "    def obter_memento(self, indice):\n",
        "        return self.historico[indice] if 0 <= indice < len(self.historico) else None\n",
        "\n",
        "# Uso do padrão Memento\n",
        "contrato = ContratoCredito(\"C12345\", \"Lucas Winter\", 10000, 1.5, 36)\n",
        "historico = HistoricoContrato()\n",
        "\n",
        "# Salvando o estado inicial\n",
        "historico.adicionar_memento(contrato.salvar_estado())\n",
        "\n",
        "print(\"\\nEstado inicial do contrato:\")\n",
        "contrato.exibir_detalhes()\n",
        "\n",
        "# Alterando o contrato (nova taxa de juros e prazo)\n",
        "contrato.taxa_juros = 2.0\n",
        "contrato.prazo = 48\n",
        "\n",
        "print(\"\\nContrato alterado:\")\n",
        "contrato.exibir_detalhes()\n",
        "\n",
        "# Restaurando o estado anterior\n",
        "contrato.restaurar_estado(historico.obter_memento(0))\n",
        "\n",
        "print(\"\\nEstado restaurado:\")\n",
        "contrato.exibir_detalhes()\n"
      ]
    }
  ]
}